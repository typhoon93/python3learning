{
 "cells": [
  {
   "cell_type": "code",
   "execution_count": 4,
   "id": "00447732-0509-4ef2-96e5-f9d83685b5a8",
   "metadata": {},
   "outputs": [],
   "source": [
    "from collections import namedtuple\n",
    "\n",
    "City = namedtuple(\"City\", 'name country population coordinates') # split a \" \"\n",
    "tokyo = City('Tokyo', 'JP', 36.933, (35.689722, 139.691667))\n"
   ]
  },
  {
   "cell_type": "code",
   "execution_count": 3,
   "id": "6184276a-d22a-44c5-adf6-36743c068099",
   "metadata": {},
   "outputs": [
    {
     "data": {
      "text/plain": [
       "'Tokyo'"
      ]
     },
     "execution_count": 3,
     "metadata": {},
     "output_type": "execute_result"
    }
   ],
   "source": [
    "tokyo.name"
   ]
  },
  {
   "cell_type": "code",
   "execution_count": 5,
   "id": "c71a96f6-f750-41b3-8468-593977d2d4e3",
   "metadata": {},
   "outputs": [
    {
     "data": {
      "text/plain": [
       "('name', 'country', 'population', 'coordinates')"
      ]
     },
     "execution_count": 5,
     "metadata": {},
     "output_type": "execute_result"
    }
   ],
   "source": [
    "City._fields"
   ]
  },
  {
   "cell_type": "code",
   "execution_count": 6,
   "id": "1cee6b12-55d5-467f-854a-1e6dc504cb3b",
   "metadata": {},
   "outputs": [],
   "source": [
    "class DemoPlainClass:\n",
    "    a: int\n",
    "    b: float = 1.1\n",
    "    c = 'spam'"
   ]
  },
  {
   "cell_type": "code",
   "execution_count": 8,
   "id": "8913f094-aef0-42b6-92e8-a7843b15c4b6",
   "metadata": {},
   "outputs": [
    {
     "data": {
      "text/plain": [
       "1.1"
      ]
     },
     "execution_count": 8,
     "metadata": {},
     "output_type": "execute_result"
    }
   ],
   "source": [
    "DemoPlainClass.__annotations__\n",
    "DemoPlainClass.b"
   ]
  },
  {
   "cell_type": "code",
   "execution_count": 9,
   "id": "118385b4-d1f5-41b6-862b-f6c66f20c4eb",
   "metadata": {},
   "outputs": [],
   "source": [
    "import typing\n",
    "class DemoNTClass(typing.NamedTuple):\n",
    "    a: int\n",
    "    b: float = 1.1\n",
    "    c = 'spam'"
   ]
  },
  {
   "cell_type": "code",
   "execution_count": 10,
   "id": "28955758-d177-468a-af7c-0ef297c91eae",
   "metadata": {},
   "outputs": [
    {
     "data": {
      "text/plain": [
       "{'a': int, 'b': float}"
      ]
     },
     "execution_count": 10,
     "metadata": {},
     "output_type": "execute_result"
    }
   ],
   "source": [
    "DemoNTClass.__annotations__"
   ]
  },
  {
   "cell_type": "code",
   "execution_count": null,
   "id": "890db2d3-819e-491d-adf4-e145e32b7918",
   "metadata": {},
   "outputs": [],
   "source": []
  },
  {
   "cell_type": "code",
   "execution_count": 11,
   "id": "9532b23f-3304-4035-88d5-9532c3904d3f",
   "metadata": {},
   "outputs": [
    {
     "data": {
      "text/plain": [
       "_tuplegetter(0, 'Alias for field number 0')"
      ]
     },
     "execution_count": 11,
     "metadata": {},
     "output_type": "execute_result"
    }
   ],
   "source": [
    "DemoNTClass.a\n"
   ]
  },
  {
   "cell_type": "code",
   "execution_count": 12,
   "id": "6b8d419f-6b5b-4a62-9201-fb2b4dd0e879",
   "metadata": {},
   "outputs": [
    {
     "data": {
      "text/plain": [
       "1"
      ]
     },
     "execution_count": 12,
     "metadata": {},
     "output_type": "execute_result"
    }
   ],
   "source": [
    "nt = DemoNTClass(1)\n",
    "nt.a"
   ]
  },
  {
   "cell_type": "code",
   "execution_count": 15,
   "id": "392e23c6-0e2c-46ae-9fa2-6c4381d04331",
   "metadata": {},
   "outputs": [
    {
     "ename": "AttributeError",
     "evalue": "'DemoNTClass' object attribute 'c' is read-only",
     "output_type": "error",
     "traceback": [
      "\u001b[1;31m---------------------------------------------------------------------------\u001b[0m",
      "\u001b[1;31mAttributeError\u001b[0m                            Traceback (most recent call last)",
      "Cell \u001b[1;32mIn[15], line 1\u001b[0m\n\u001b[1;32m----> 1\u001b[0m \u001b[43mnt\u001b[49m\u001b[38;5;241;43m.\u001b[39;49m\u001b[43mc\u001b[49m \u001b[38;5;241m=\u001b[39m \u001b[38;5;241m19\u001b[39m\n",
      "\u001b[1;31mAttributeError\u001b[0m: 'DemoNTClass' object attribute 'c' is read-only"
     ]
    }
   ],
   "source": [
    "nt.a = 19"
   ]
  },
  {
   "cell_type": "code",
   "execution_count": null,
   "id": "45378db5-1825-4d96-a6dc-aa0fdb8ec24f",
   "metadata": {},
   "outputs": [],
   "source": []
  },
  {
   "cell_type": "code",
   "execution_count": null,
   "id": "b9c47be1-84fb-4160-9020-49449b79e503",
   "metadata": {},
   "outputs": [],
   "source": [
    "def add_item_to_list(item, item_list=None):\n",
    "    if item_list is None:\n",
    "        item_list = []\n",
    "    item_list.append(item)\n",
    "    return item_list"
   ]
  },
  {
   "cell_type": "code",
   "execution_count": null,
   "id": "69a000ef-6e46-493f-bc73-fbcaefe28ec5",
   "metadata": {},
   "outputs": [],
   "source": []
  },
  {
   "cell_type": "code",
   "execution_count": null,
   "id": "69d3dc52-7e26-4554-bdf9-677d15c4234e",
   "metadata": {},
   "outputs": [],
   "source": [
    "DemoPla"
   ]
  }
 ],
 "metadata": {
  "kernelspec": {
   "display_name": "Python 3",
   "language": "python",
   "name": "python3"
  },
  "language_info": {
   "codemirror_mode": {
    "name": "ipython",
    "version": 3
   },
   "file_extension": ".py",
   "mimetype": "text/x-python",
   "name": "python",
   "nbconvert_exporter": "python",
   "pygments_lexer": "ipython3",
   "version": "3.11.6"
  }
 },
 "nbformat": 4,
 "nbformat_minor": 5
}
